{
 "cells": [
  {
   "cell_type": "markdown",
   "metadata": {},
   "source": [
    "# FitNotes EDA\n",
    "## Marshall Ferguson - 12/2021"
   ]
  },
  {
   "cell_type": "code",
   "execution_count": 1,
   "metadata": {},
   "outputs": [],
   "source": [
    "# Imports\n",
    "\n",
    "import pandas as pd \n",
    "import numpy as np"
   ]
  },
  {
   "cell_type": "code",
   "execution_count": 2,
   "metadata": {},
   "outputs": [
    {
     "data": {
      "text/html": [
       "<div>\n",
       "<style scoped>\n",
       "    .dataframe tbody tr th:only-of-type {\n",
       "        vertical-align: middle;\n",
       "    }\n",
       "\n",
       "    .dataframe tbody tr th {\n",
       "        vertical-align: top;\n",
       "    }\n",
       "\n",
       "    .dataframe thead th {\n",
       "        text-align: right;\n",
       "    }\n",
       "</style>\n",
       "<table border=\"1\" class=\"dataframe\">\n",
       "  <thead>\n",
       "    <tr style=\"text-align: right;\">\n",
       "      <th></th>\n",
       "      <th>Date</th>\n",
       "      <th>Exercise</th>\n",
       "      <th>Category</th>\n",
       "      <th>Weight (lbs)</th>\n",
       "      <th>Reps</th>\n",
       "      <th>Distance</th>\n",
       "      <th>Distance Unit</th>\n",
       "      <th>Time</th>\n",
       "    </tr>\n",
       "  </thead>\n",
       "  <tbody>\n",
       "    <tr>\n",
       "      <th>0</th>\n",
       "      <td>2019-04-05</td>\n",
       "      <td>Flat Barbell Bench Press</td>\n",
       "      <td>Chest</td>\n",
       "      <td>45.0</td>\n",
       "      <td>10.0</td>\n",
       "      <td>NaN</td>\n",
       "      <td>NaN</td>\n",
       "      <td>NaN</td>\n",
       "    </tr>\n",
       "    <tr>\n",
       "      <th>1</th>\n",
       "      <td>2019-04-05</td>\n",
       "      <td>Barbell Squat</td>\n",
       "      <td>Legs</td>\n",
       "      <td>45.0</td>\n",
       "      <td>8.0</td>\n",
       "      <td>NaN</td>\n",
       "      <td>NaN</td>\n",
       "      <td>NaN</td>\n",
       "    </tr>\n",
       "    <tr>\n",
       "      <th>2</th>\n",
       "      <td>2019-04-05</td>\n",
       "      <td>Flat Barbell Bench Press</td>\n",
       "      <td>Chest</td>\n",
       "      <td>55.0</td>\n",
       "      <td>10.0</td>\n",
       "      <td>NaN</td>\n",
       "      <td>NaN</td>\n",
       "      <td>NaN</td>\n",
       "    </tr>\n",
       "    <tr>\n",
       "      <th>3</th>\n",
       "      <td>2019-04-05</td>\n",
       "      <td>Flat Barbell Bench Press</td>\n",
       "      <td>Chest</td>\n",
       "      <td>55.0</td>\n",
       "      <td>10.0</td>\n",
       "      <td>NaN</td>\n",
       "      <td>NaN</td>\n",
       "      <td>NaN</td>\n",
       "    </tr>\n",
       "    <tr>\n",
       "      <th>4</th>\n",
       "      <td>2019-04-05</td>\n",
       "      <td>Flat Barbell Bench Press</td>\n",
       "      <td>Chest</td>\n",
       "      <td>65.0</td>\n",
       "      <td>10.0</td>\n",
       "      <td>NaN</td>\n",
       "      <td>NaN</td>\n",
       "      <td>NaN</td>\n",
       "    </tr>\n",
       "  </tbody>\n",
       "</table>\n",
       "</div>"
      ],
      "text/plain": [
       "         Date                  Exercise Category  Weight (lbs)  Reps  \\\n",
       "0  2019-04-05  Flat Barbell Bench Press    Chest          45.0  10.0   \n",
       "1  2019-04-05             Barbell Squat     Legs          45.0   8.0   \n",
       "2  2019-04-05  Flat Barbell Bench Press    Chest          55.0  10.0   \n",
       "3  2019-04-05  Flat Barbell Bench Press    Chest          55.0  10.0   \n",
       "4  2019-04-05  Flat Barbell Bench Press    Chest          65.0  10.0   \n",
       "\n",
       "   Distance Distance Unit Time  \n",
       "0       NaN           NaN  NaN  \n",
       "1       NaN           NaN  NaN  \n",
       "2       NaN           NaN  NaN  \n",
       "3       NaN           NaN  NaN  \n",
       "4       NaN           NaN  NaN  "
      ]
     },
     "execution_count": 2,
     "metadata": {},
     "output_type": "execute_result"
    }
   ],
   "source": [
    "# Import data\n",
    "\n",
    "df = pd.read_csv('data\\FitNotes\\FitNotes_Export_2021_11_30_15_21_26.csv')\n",
    "\n",
    "df.head()"
   ]
  },
  {
   "cell_type": "code",
   "execution_count": null,
   "metadata": {},
   "outputs": [],
   "source": []
  }
 ],
 "metadata": {
  "interpreter": {
   "hash": "590bb9acbdd23f43ccecca7f96a63330f77153c349df4719fc373788bfd8ab7b"
  },
  "kernelspec": {
   "display_name": "Python 3.8.5 64-bit ('base': conda)",
   "language": "python",
   "name": "python3"
  },
  "language_info": {
   "codemirror_mode": {
    "name": "ipython",
    "version": 3
   },
   "file_extension": ".py",
   "mimetype": "text/x-python",
   "name": "python",
   "nbconvert_exporter": "python",
   "pygments_lexer": "ipython3",
   "version": "3.8.5"
  },
  "orig_nbformat": 4
 },
 "nbformat": 4,
 "nbformat_minor": 2
}
