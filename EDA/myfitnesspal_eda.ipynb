{
 "cells": [
  {
   "cell_type": "markdown",
   "metadata": {},
   "source": [
    "# MyFitnessPal EDA\n",
    "## Marshall Ferguson - 12/2021"
   ]
  },
  {
   "cell_type": "code",
   "execution_count": 2,
   "metadata": {},
   "outputs": [],
   "source": [
    "# Imports\n",
    "\n",
    "import pandas as pd"
   ]
  },
  {
   "cell_type": "code",
   "execution_count": 9,
   "metadata": {},
   "outputs": [
    {
     "data": {
      "text/html": [
       "<div>\n",
       "<style scoped>\n",
       "    .dataframe tbody tr th:only-of-type {\n",
       "        vertical-align: middle;\n",
       "    }\n",
       "\n",
       "    .dataframe tbody tr th {\n",
       "        vertical-align: top;\n",
       "    }\n",
       "\n",
       "    .dataframe thead th {\n",
       "        text-align: right;\n",
       "    }\n",
       "</style>\n",
       "<table border=\"1\" class=\"dataframe\">\n",
       "  <thead>\n",
       "    <tr style=\"text-align: right;\">\n",
       "      <th></th>\n",
       "      <th>Date</th>\n",
       "      <th>Meal</th>\n",
       "      <th>Calories</th>\n",
       "      <th>Fat (g)</th>\n",
       "      <th>Saturated Fat</th>\n",
       "      <th>Polyunsaturated Fat</th>\n",
       "      <th>Monounsaturated Fat</th>\n",
       "      <th>Trans Fat</th>\n",
       "      <th>Cholesterol</th>\n",
       "      <th>Sodium (mg)</th>\n",
       "      <th>Potassium</th>\n",
       "      <th>Carbohydrates (g)</th>\n",
       "      <th>Fiber</th>\n",
       "      <th>Sugar</th>\n",
       "      <th>Protein (g)</th>\n",
       "      <th>Vitamin A</th>\n",
       "      <th>Vitamin C</th>\n",
       "      <th>Calcium</th>\n",
       "      <th>Iron</th>\n",
       "      <th>Note</th>\n",
       "    </tr>\n",
       "  </thead>\n",
       "  <tbody>\n",
       "    <tr>\n",
       "      <th>0</th>\n",
       "      <td>2016-12-02</td>\n",
       "      <td>Meal 1</td>\n",
       "      <td>820.0</td>\n",
       "      <td>56.0</td>\n",
       "      <td>22.0</td>\n",
       "      <td>0.0</td>\n",
       "      <td>0.0</td>\n",
       "      <td>1.0</td>\n",
       "      <td>260.0</td>\n",
       "      <td>1160.0</td>\n",
       "      <td>580.0</td>\n",
       "      <td>54.0</td>\n",
       "      <td>4.0</td>\n",
       "      <td>10.0</td>\n",
       "      <td>24.0</td>\n",
       "      <td>16.0</td>\n",
       "      <td>0.0</td>\n",
       "      <td>30.0</td>\n",
       "      <td>20.0</td>\n",
       "      <td>NaN</td>\n",
       "    </tr>\n",
       "    <tr>\n",
       "      <th>1</th>\n",
       "      <td>2016-12-02</td>\n",
       "      <td>Meal 2</td>\n",
       "      <td>555.0</td>\n",
       "      <td>16.5</td>\n",
       "      <td>5.5</td>\n",
       "      <td>1.0</td>\n",
       "      <td>1.5</td>\n",
       "      <td>0.0</td>\n",
       "      <td>90.0</td>\n",
       "      <td>1360.0</td>\n",
       "      <td>214.5</td>\n",
       "      <td>62.5</td>\n",
       "      <td>13.0</td>\n",
       "      <td>5.0</td>\n",
       "      <td>50.0</td>\n",
       "      <td>14.0</td>\n",
       "      <td>40.0</td>\n",
       "      <td>49.0</td>\n",
       "      <td>38.0</td>\n",
       "      <td>NaN</td>\n",
       "    </tr>\n",
       "    <tr>\n",
       "      <th>2</th>\n",
       "      <td>2016-12-02</td>\n",
       "      <td>Meal 3</td>\n",
       "      <td>290.0</td>\n",
       "      <td>0.0</td>\n",
       "      <td>0.0</td>\n",
       "      <td>0.0</td>\n",
       "      <td>0.0</td>\n",
       "      <td>0.0</td>\n",
       "      <td>0.0</td>\n",
       "      <td>0.0</td>\n",
       "      <td>0.0</td>\n",
       "      <td>30.0</td>\n",
       "      <td>0.0</td>\n",
       "      <td>0.0</td>\n",
       "      <td>0.0</td>\n",
       "      <td>0.0</td>\n",
       "      <td>0.0</td>\n",
       "      <td>0.0</td>\n",
       "      <td>0.0</td>\n",
       "      <td>NaN</td>\n",
       "    </tr>\n",
       "    <tr>\n",
       "      <th>3</th>\n",
       "      <td>2016-12-02</td>\n",
       "      <td>Meal 4</td>\n",
       "      <td>600.0</td>\n",
       "      <td>20.0</td>\n",
       "      <td>9.0</td>\n",
       "      <td>1.0</td>\n",
       "      <td>3.0</td>\n",
       "      <td>0.3</td>\n",
       "      <td>108.0</td>\n",
       "      <td>863.0</td>\n",
       "      <td>340.0</td>\n",
       "      <td>93.5</td>\n",
       "      <td>15.5</td>\n",
       "      <td>53.5</td>\n",
       "      <td>33.0</td>\n",
       "      <td>37.0</td>\n",
       "      <td>35.0</td>\n",
       "      <td>120.0</td>\n",
       "      <td>49.5</td>\n",
       "      <td>NaN</td>\n",
       "    </tr>\n",
       "    <tr>\n",
       "      <th>4</th>\n",
       "      <td>2016-12-03</td>\n",
       "      <td>Meal 4</td>\n",
       "      <td>550.0</td>\n",
       "      <td>12.5</td>\n",
       "      <td>5.0</td>\n",
       "      <td>0.5</td>\n",
       "      <td>1.5</td>\n",
       "      <td>0.0</td>\n",
       "      <td>270.0</td>\n",
       "      <td>360.0</td>\n",
       "      <td>450.0</td>\n",
       "      <td>42.0</td>\n",
       "      <td>3.0</td>\n",
       "      <td>26.0</td>\n",
       "      <td>62.0</td>\n",
       "      <td>18.0</td>\n",
       "      <td>35.0</td>\n",
       "      <td>73.0</td>\n",
       "      <td>6.0</td>\n",
       "      <td>NaN</td>\n",
       "    </tr>\n",
       "  </tbody>\n",
       "</table>\n",
       "</div>"
      ],
      "text/plain": [
       "         Date    Meal  Calories  Fat (g)  Saturated Fat  Polyunsaturated Fat  \\\n",
       "0  2016-12-02  Meal 1     820.0     56.0           22.0                  0.0   \n",
       "1  2016-12-02  Meal 2     555.0     16.5            5.5                  1.0   \n",
       "2  2016-12-02  Meal 3     290.0      0.0            0.0                  0.0   \n",
       "3  2016-12-02  Meal 4     600.0     20.0            9.0                  1.0   \n",
       "4  2016-12-03  Meal 4     550.0     12.5            5.0                  0.5   \n",
       "\n",
       "   Monounsaturated Fat  Trans Fat  Cholesterol  Sodium (mg)  Potassium  \\\n",
       "0                  0.0        1.0        260.0       1160.0      580.0   \n",
       "1                  1.5        0.0         90.0       1360.0      214.5   \n",
       "2                  0.0        0.0          0.0          0.0        0.0   \n",
       "3                  3.0        0.3        108.0        863.0      340.0   \n",
       "4                  1.5        0.0        270.0        360.0      450.0   \n",
       "\n",
       "   Carbohydrates (g)  Fiber  Sugar  Protein (g)  Vitamin A  Vitamin C  \\\n",
       "0               54.0    4.0   10.0         24.0       16.0        0.0   \n",
       "1               62.5   13.0    5.0         50.0       14.0       40.0   \n",
       "2               30.0    0.0    0.0          0.0        0.0        0.0   \n",
       "3               93.5   15.5   53.5         33.0       37.0       35.0   \n",
       "4               42.0    3.0   26.0         62.0       18.0       35.0   \n",
       "\n",
       "   Calcium  Iron  Note  \n",
       "0     30.0  20.0   NaN  \n",
       "1     49.0  38.0   NaN  \n",
       "2      0.0   0.0   NaN  \n",
       "3    120.0  49.5   NaN  \n",
       "4     73.0   6.0   NaN  "
      ]
     },
     "execution_count": 9,
     "metadata": {},
     "output_type": "execute_result"
    }
   ],
   "source": [
    "# Import data\n",
    "\n",
    "df = pd.read_csv(r'data\\MyFitnessPal\\20211201\\Nutrition-Summary-2016-12-01-to-2021-12-01.csv')\n",
    "\n",
    "df.head()"
   ]
  },
  {
   "cell_type": "code",
   "execution_count": 19,
   "metadata": {},
   "outputs": [
    {
     "name": "stdout",
     "output_type": "stream",
     "text": [
      "Date                   2021-02-14\n",
      "Meal                       Meal 1\n",
      "Calories                   1618.0\n",
      "Fat (g)                      78.0\n",
      "Saturated Fat                 0.0\n",
      "Polyunsaturated Fat           0.0\n",
      "Monounsaturated Fat           0.0\n",
      "Trans Fat                     0.0\n",
      "Cholesterol                   0.0\n",
      "Sodium (mg)                   0.0\n",
      "Potassium                     0.0\n",
      "Carbohydrates (g)           156.0\n",
      "Fiber                         0.0\n",
      "Sugar                         0.0\n",
      "Protein (g)                  73.0\n",
      "Vitamin A                     0.0\n",
      "Vitamin C                     0.0\n",
      "Calcium                       0.0\n",
      "Iron                          0.0\n",
      "Note                          NaN\n",
      "Name: 1026, dtype: object\n"
     ]
    }
   ],
   "source": [
    "# Which meal had the most calories?\n",
    "\n",
    "max_cals = df['Calories'].max()\n",
    "index_max_cals = pd.Index(df['Calories']).argmax()\n",
    "\n",
    "print(df.loc[index_max_cals])"
   ]
  },
  {
   "cell_type": "code",
   "execution_count": 22,
   "metadata": {},
   "outputs": [
    {
     "data": {
      "text/plain": [
       "Date\n",
       "2017-01-05    3117.5\n",
       "2021-02-08    3017.0\n",
       "2016-12-29    2912.5\n",
       "2016-12-05    2870.0\n",
       "2017-04-01    2852.3\n",
       "Name: Calories, dtype: float64"
      ]
     },
     "execution_count": 22,
     "metadata": {},
     "output_type": "execute_result"
    }
   ],
   "source": [
    "# Which day had the most calories?\n",
    "\n",
    "day_grouped = df.groupby('Date')\n",
    "day_grouped['Calories'].sum().sort_values(ascending=False).head()"
   ]
  },
  {
   "cell_type": "code",
   "execution_count": 23,
   "metadata": {},
   "outputs": [
    {
     "data": {
      "text/plain": [
       "Date\n",
       "2021-02-12    286.3\n",
       "2020-09-19    273.3\n",
       "2021-02-09    268.0\n",
       "2016-12-22    264.5\n",
       "2021-02-08    262.7\n",
       "Name: Protein (g), dtype: float64"
      ]
     },
     "execution_count": 23,
     "metadata": {},
     "output_type": "execute_result"
    }
   ],
   "source": [
    "# Which day had the most protein?\n",
    "\n",
    "day_grouped = df.groupby('Date')\n",
    "day_grouped['Protein (g)'].sum().sort_values(ascending=False).head()"
   ]
  },
  {
   "cell_type": "code",
   "execution_count": 36,
   "metadata": {},
   "outputs": [
    {
     "data": {
      "text/plain": [
       "1348.1285714285714"
      ]
     },
     "execution_count": 36,
     "metadata": {},
     "output_type": "execute_result"
    }
   ],
   "source": [
    "# What is the avg caloires/day for the last 2 weeks?\n",
    "\n",
    "day_grouped = df.groupby('Date')\n",
    "day_grouped['Calories'].sum().tail(14).mean()"
   ]
  }
 ],
 "metadata": {
  "interpreter": {
   "hash": "590bb9acbdd23f43ccecca7f96a63330f77153c349df4719fc373788bfd8ab7b"
  },
  "kernelspec": {
   "display_name": "Python 3.8.5 64-bit ('base': conda)",
   "language": "python",
   "name": "python3"
  },
  "language_info": {
   "codemirror_mode": {
    "name": "ipython",
    "version": 3
   },
   "file_extension": ".py",
   "mimetype": "text/x-python",
   "name": "python",
   "nbconvert_exporter": "python",
   "pygments_lexer": "ipython3",
   "version": "3.8.5"
  },
  "orig_nbformat": 4
 },
 "nbformat": 4,
 "nbformat_minor": 2
}
