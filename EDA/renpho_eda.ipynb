{
 "cells": [
  {
   "cell_type": "markdown",
   "metadata": {},
   "source": [
    "# RenPho EDA\n",
    "## Marshall Ferguson - 12/2021"
   ]
  },
  {
   "cell_type": "code",
   "execution_count": 2,
   "metadata": {},
   "outputs": [],
   "source": [
    "# Imports\n",
    "\n",
    "import pandas as pd"
   ]
  },
  {
   "cell_type": "code",
   "execution_count": 3,
   "metadata": {},
   "outputs": [
    {
     "data": {
      "text/html": [
       "<div>\n",
       "<style scoped>\n",
       "    .dataframe tbody tr th:only-of-type {\n",
       "        vertical-align: middle;\n",
       "    }\n",
       "\n",
       "    .dataframe tbody tr th {\n",
       "        vertical-align: top;\n",
       "    }\n",
       "\n",
       "    .dataframe thead th {\n",
       "        text-align: right;\n",
       "    }\n",
       "</style>\n",
       "<table border=\"1\" class=\"dataframe\">\n",
       "  <thead>\n",
       "    <tr style=\"text-align: right;\">\n",
       "      <th></th>\n",
       "      <th>Time of Measurement</th>\n",
       "      <th>Weight(lb)</th>\n",
       "      <th>BMI</th>\n",
       "      <th>Body Fat(%)</th>\n",
       "      <th>Fat-free Body Weight(lb)</th>\n",
       "      <th>Subcutaneous Fat(%)</th>\n",
       "      <th>Visceral Fat</th>\n",
       "      <th>Body Water(%)</th>\n",
       "      <th>Skeletal Muscle(%)</th>\n",
       "      <th>Muscle Mass(lb)</th>\n",
       "      <th>Bone Mass(lb)</th>\n",
       "      <th>Protein(%)</th>\n",
       "      <th>BMR(kcal)</th>\n",
       "      <th>Metabolic Age</th>\n",
       "      <th>Remarks</th>\n",
       "    </tr>\n",
       "  </thead>\n",
       "  <tbody>\n",
       "    <tr>\n",
       "      <th>0</th>\n",
       "      <td>December 1, 2021 4:16:11 AM</td>\n",
       "      <td>243.4</td>\n",
       "      <td>31.6</td>\n",
       "      <td>28.1</td>\n",
       "      <td>174.8</td>\n",
       "      <td>24.0</td>\n",
       "      <td>14.0</td>\n",
       "      <td>51.9</td>\n",
       "      <td>46.4</td>\n",
       "      <td>166.2</td>\n",
       "      <td>8.8</td>\n",
       "      <td>16.4</td>\n",
       "      <td>2084.0</td>\n",
       "      <td>35.0</td>\n",
       "      <td>--</td>\n",
       "    </tr>\n",
       "    <tr>\n",
       "      <th>1</th>\n",
       "      <td>November 30, 2021 5:38:54 AM</td>\n",
       "      <td>242.6</td>\n",
       "      <td>31.5</td>\n",
       "      <td>28.0</td>\n",
       "      <td>174.6</td>\n",
       "      <td>23.9</td>\n",
       "      <td>14.0</td>\n",
       "      <td>52.0</td>\n",
       "      <td>46.5</td>\n",
       "      <td>165.8</td>\n",
       "      <td>8.8</td>\n",
       "      <td>16.4</td>\n",
       "      <td>2080.0</td>\n",
       "      <td>35.0</td>\n",
       "      <td>--</td>\n",
       "    </tr>\n",
       "    <tr>\n",
       "      <th>2</th>\n",
       "      <td>November 29, 2021 4:47:06 AM</td>\n",
       "      <td>247.2</td>\n",
       "      <td>32.1</td>\n",
       "      <td>28.9</td>\n",
       "      <td>175.8</td>\n",
       "      <td>24.7</td>\n",
       "      <td>14.0</td>\n",
       "      <td>51.3</td>\n",
       "      <td>45.9</td>\n",
       "      <td>166.8</td>\n",
       "      <td>8.8</td>\n",
       "      <td>16.2</td>\n",
       "      <td>2091.0</td>\n",
       "      <td>35.0</td>\n",
       "      <td>--</td>\n",
       "    </tr>\n",
       "    <tr>\n",
       "      <th>3</th>\n",
       "      <td>November 28, 2021 5:15:57 AM</td>\n",
       "      <td>248.0</td>\n",
       "      <td>32.2</td>\n",
       "      <td>29.0</td>\n",
       "      <td>176.0</td>\n",
       "      <td>24.8</td>\n",
       "      <td>14.0</td>\n",
       "      <td>51.2</td>\n",
       "      <td>45.8</td>\n",
       "      <td>167.4</td>\n",
       "      <td>8.8</td>\n",
       "      <td>16.2</td>\n",
       "      <td>2095.0</td>\n",
       "      <td>35.0</td>\n",
       "      <td>--</td>\n",
       "    </tr>\n",
       "    <tr>\n",
       "      <th>4</th>\n",
       "      <td>November 27, 2021 3:13:45 AM</td>\n",
       "      <td>247.6</td>\n",
       "      <td>32.1</td>\n",
       "      <td>29.0</td>\n",
       "      <td>176.0</td>\n",
       "      <td>24.8</td>\n",
       "      <td>14.0</td>\n",
       "      <td>51.3</td>\n",
       "      <td>45.9</td>\n",
       "      <td>166.8</td>\n",
       "      <td>8.8</td>\n",
       "      <td>16.1</td>\n",
       "      <td>2092.0</td>\n",
       "      <td>35.0</td>\n",
       "      <td>--</td>\n",
       "    </tr>\n",
       "  </tbody>\n",
       "</table>\n",
       "</div>"
      ],
      "text/plain": [
       "            Time of Measurement  Weight(lb)   BMI  Body Fat(%)  \\\n",
       "0   December 1, 2021 4:16:11 AM       243.4  31.6         28.1   \n",
       "1  November 30, 2021 5:38:54 AM       242.6  31.5         28.0   \n",
       "2  November 29, 2021 4:47:06 AM       247.2  32.1         28.9   \n",
       "3  November 28, 2021 5:15:57 AM       248.0  32.2         29.0   \n",
       "4  November 27, 2021 3:13:45 AM       247.6  32.1         29.0   \n",
       "\n",
       "   Fat-free Body Weight(lb)  Subcutaneous Fat(%)  Visceral Fat  Body Water(%)  \\\n",
       "0                     174.8                 24.0          14.0           51.9   \n",
       "1                     174.6                 23.9          14.0           52.0   \n",
       "2                     175.8                 24.7          14.0           51.3   \n",
       "3                     176.0                 24.8          14.0           51.2   \n",
       "4                     176.0                 24.8          14.0           51.3   \n",
       "\n",
       "   Skeletal Muscle(%)  Muscle Mass(lb)  Bone Mass(lb)  Protein(%)  BMR(kcal)  \\\n",
       "0                46.4            166.2            8.8        16.4     2084.0   \n",
       "1                46.5            165.8            8.8        16.4     2080.0   \n",
       "2                45.9            166.8            8.8        16.2     2091.0   \n",
       "3                45.8            167.4            8.8        16.2     2095.0   \n",
       "4                45.9            166.8            8.8        16.1     2092.0   \n",
       "\n",
       "   Metabolic Age Remarks  \n",
       "0           35.0      --  \n",
       "1           35.0      --  \n",
       "2           35.0      --  \n",
       "3           35.0      --  \n",
       "4           35.0      --  "
      ]
     },
     "execution_count": 3,
     "metadata": {},
     "output_type": "execute_result"
    }
   ],
   "source": [
    "# Import data\n",
    "\n",
    "df = pd.read_csv('data\\Renpho\\Measurement Data 20211201.csv')\n",
    "\n",
    "df.head()"
   ]
  },
  {
   "cell_type": "code",
   "execution_count": 7,
   "metadata": {},
   "outputs": [
    {
     "name": "stdout",
     "output_type": "stream",
     "text": [
      "250.0\n",
      "November 21, 2021 4:45:50 AM\n"
     ]
    }
   ],
   "source": [
    "# What date was I the heaviest?\n",
    "\n",
    "max_weight = df['Weight(lb)'].max()\n",
    "index_max_weight = pd.Index(df['Weight(lb)']).argmax()\n",
    "\n",
    "print(max_weight)\n",
    "print(df['Time of Measurement'].loc[index_max_weight])"
   ]
  },
  {
   "cell_type": "code",
   "execution_count": 8,
   "metadata": {},
   "outputs": [
    {
     "name": "stdout",
     "output_type": "stream",
     "text": [
      "20.9 29.4\n"
     ]
    }
   ],
   "source": [
    "# What is the range of BF% through all measurements?\n",
    "\n",
    "max_bf = df['Body Fat(%)'].max()\n",
    "min_bf = df['Body Fat(%)'].min()\n",
    "\n",
    "print(min_bf, max_bf)"
   ]
  },
  {
   "cell_type": "code",
   "execution_count": 9,
   "metadata": {},
   "outputs": [
    {
     "data": {
      "text/plain": [
       "33.76"
      ]
     },
     "execution_count": 9,
     "metadata": {},
     "output_type": "execute_result"
    }
   ],
   "source": [
    "# What is the average Metabolic Age for the past 100 measurements?\n",
    "\n",
    "df['Metabolic Age'].head(100).mean()"
   ]
  }
 ],
 "metadata": {
  "interpreter": {
   "hash": "590bb9acbdd23f43ccecca7f96a63330f77153c349df4719fc373788bfd8ab7b"
  },
  "kernelspec": {
   "display_name": "Python 3.8.5 64-bit ('base': conda)",
   "language": "python",
   "name": "python3"
  },
  "language_info": {
   "codemirror_mode": {
    "name": "ipython",
    "version": 3
   },
   "file_extension": ".py",
   "mimetype": "text/x-python",
   "name": "python",
   "nbconvert_exporter": "python",
   "pygments_lexer": "ipython3",
   "version": "3.8.5"
  },
  "orig_nbformat": 4
 },
 "nbformat": 4,
 "nbformat_minor": 2
}
